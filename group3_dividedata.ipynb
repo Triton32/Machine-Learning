{
 "cells": [
  {
   "cell_type": "markdown",
   "metadata": {},
   "source": [
    "# Group 3 ML Group Assignment (Papu S, Jacobs R, Munnik S)\n",
    "\n",
    "# Group Devide Data"
   ]
  },
  {
   "cell_type": "code",
   "execution_count": 5,
   "metadata": {},
   "outputs": [],
   "source": [
    "# CSC311 – Machine Learning – Group Devide Data\n",
    "import pandas as pd\n",
    "import numpy as np\n",
    "import scipy as sp\n",
    "import sklearn\n",
    "# The classification goal is to predict whether the client is accessing the wifi in room 4\n",
    "data = np.matrix(np.loadtxt('wifi_signal.csv'));\n",
    "np.random.shuffle(data)"
   ]
  },
  {
   "cell_type": "markdown",
   "metadata": {},
   "source": [
    "# The contents of data\n",
    "\n",
    "## Problem description (Wireless Indoor Localization)\n",
    "\n",
    "Detecting users in an indoor environment based on Wi-Fi signal strength has a wide domain of applications. This can be used for objectives like locating users in smart home systems, locating criminals in bounded regions, obtaining the count of users on an access point etc.\n",
    "\n",
    "##  Data Set:\n",
    "\n",
    "The dataset (wifi.csv) contains: 2000 examples and 7 attributes.\n",
    "\n",
    "#### Notes: the last column in the data set correspond to the class or label/ target\n",
    "\n",
    "Only three classification algorithms will be built that can correctly classify whether the variable is one of the four rooms."
   ]
  },
  {
   "cell_type": "code",
   "execution_count": 6,
   "metadata": {},
   "outputs": [
    {
     "data": {
      "text/plain": [
       "matrix([[-59., -57., -56., ..., -91., -86.,   4.],\n",
       "        [-60., -58., -57., ..., -82., -83.,   1.],\n",
       "        [-57., -52., -56., ..., -91., -85.,   4.],\n",
       "        ...,\n",
       "        [-12., -56., -58., ..., -75., -79.,   2.],\n",
       "        [-46., -59., -55., ..., -74., -84.,   2.],\n",
       "        [-37., -54., -54., ..., -72., -78.,   2.]])"
      ]
     },
     "execution_count": 6,
     "metadata": {},
     "output_type": "execute_result"
    }
   ],
   "source": [
    "data"
   ]
  },
  {
   "cell_type": "markdown",
   "metadata": {},
   "source": [
    "Training is 70% of the data, \n",
    "Cross Validation and Testing share the remaining 30% of the data"
   ]
  },
  {
   "cell_type": "code",
   "execution_count": 7,
   "metadata": {},
   "outputs": [],
   "source": [
    "#Training, Testing, CrossValidation = np.split(data_mtrx, [int(.7*len(data_mtrx)), int(.15*len(data_mtrx))])\n",
    "Training = data[: int(.7*len(data)), :]\n",
    "Testing = data[int(.7*len(data)) : int(.7*len(data))+int(.15*len(data)), :];\n",
    "CrossValidation = data[int(.7*len(data))+int(.15*len(data)) :, :]"
   ]
  },
  {
   "cell_type": "code",
   "execution_count": 8,
   "metadata": {},
   "outputs": [],
   "source": [
    "np.savetxt('group3_train.csv', Training, delimiter=',', fmt='%s')\n",
    "np.savetxt('group3_cv.csv', CrossValidation, delimiter=',', fmt='%s')\n",
    "np.savetxt('group3_test.csv', Testing, delimiter=',', fmt='%s')"
   ]
  },
  {
   "cell_type": "code",
   "execution_count": null,
   "metadata": {},
   "outputs": [],
   "source": []
  },
  {
   "cell_type": "code",
   "execution_count": null,
   "metadata": {},
   "outputs": [],
   "source": []
  },
  {
   "cell_type": "code",
   "execution_count": null,
   "metadata": {},
   "outputs": [],
   "source": []
  },
  {
   "cell_type": "code",
   "execution_count": null,
   "metadata": {},
   "outputs": [],
   "source": []
  },
  {
   "cell_type": "code",
   "execution_count": null,
   "metadata": {},
   "outputs": [],
   "source": []
  }
 ],
 "metadata": {
  "kernelspec": {
   "display_name": "Python 3",
   "language": "python",
   "name": "python3"
  },
  "language_info": {
   "codemirror_mode": {
    "name": "ipython",
    "version": 3
   },
   "file_extension": ".py",
   "mimetype": "text/x-python",
   "name": "python",
   "nbconvert_exporter": "python",
   "pygments_lexer": "ipython3",
   "version": "3.6.5"
  }
 },
 "nbformat": 4,
 "nbformat_minor": 2
}
