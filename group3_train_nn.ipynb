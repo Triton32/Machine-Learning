{
 "cells": [
  {
   "cell_type": "markdown",
   "metadata": {},
   "source": [
    "# Group 3 ML Group Assignment (Papu S, Jacobs R, Munnik S)\n",
    "## Problem description (Wireless Indoor Localization)\n",
    "\n",
    "Detecting users in an indoor environment based on Wi-Fi signal strength has a wide domain of applications. This can be used for objectives like locating users in smart home systems, locating criminals in bounded regions, obtaining the count of users on an access point etc."
   ]
  },
  {
   "cell_type": "code",
   "execution_count": 27,
   "metadata": {},
   "outputs": [],
   "source": [
    "import pandas as pd\n",
    "import numpy as np\n",
    "import matplotlib.pyplot as plot\n",
    "from sklearn import preprocessing\n",
    "from sklearn.preprocessing import MinMaxScaler\n",
    "from sklearn import metrics\n",
    "from sklearn.metrics import roc_curve, auc\n",
    "import warnings; warnings.simplefilter('ignore')\n",
    "from sklearn.metrics import precision_recall_curve"
   ]
  },
  {
   "cell_type": "markdown",
   "metadata": {},
   "source": [
    "# Neural Networks\n",
    "## Set Room"
   ]
  },
  {
   "cell_type": "code",
   "execution_count": 28,
   "metadata": {},
   "outputs": [],
   "source": [
    "room = 4"
   ]
  },
  {
   "cell_type": "markdown",
   "metadata": {},
   "source": [
    "### Training"
   ]
  },
  {
   "cell_type": "markdown",
   "metadata": {},
   "source": [
    "#### Import training dataset"
   ]
  },
  {
   "cell_type": "code",
   "execution_count": 29,
   "metadata": {},
   "outputs": [],
   "source": [
    "#Import data\n",
    "train_data = np.matrix(np.loadtxt('group3_train.csv', delimiter=','));\n",
    "y_value = train_data[:, -1]\n",
    "#print(y_value)\n",
    "for i in range(len(y_value)):\n",
    "    if y_value[i] != room:\n",
    "        y_value[i] = 0\n",
    "    elif y_value[i] == room:\n",
    "        y_value[i] = 1\n",
    "\n",
    "\n",
    "#Split data into appropriate variables\n",
    "X_train = np.column_stack((train_data[:,0],train_data[:,1],train_data[:,2],train_data[:,3],train_data[:,4],train_data[:,5],train_data[:,6]))\n",
    "y_train = train_data[:, 7]"
   ]
  },
  {
   "cell_type": "markdown",
   "metadata": {},
   "source": [
    "#### Predictor variable X Training Dataset"
   ]
  },
  {
   "cell_type": "code",
   "execution_count": 30,
   "metadata": {},
   "outputs": [
    {
     "data": {
      "text/plain": [
       "matrix([[-59., -57., -56., ..., -49., -91., -86.],\n",
       "        [-60., -58., -57., ..., -66., -82., -83.],\n",
       "        [-57., -52., -56., ..., -52., -91., -85.],\n",
       "        ...,\n",
       "        [-48., -56., -54., ..., -67., -78., -82.],\n",
       "        [-49., -54., -50., ..., -60., -85., -88.],\n",
       "        [-56., -53., -43., ..., -58., -80., -85.]])"
      ]
     },
     "execution_count": 30,
     "metadata": {},
     "output_type": "execute_result"
    }
   ],
   "source": [
    "X_train"
   ]
  },
  {
   "cell_type": "markdown",
   "metadata": {},
   "source": [
    "#### Response variable y Training Dataset"
   ]
  },
  {
   "cell_type": "code",
   "execution_count": 31,
   "metadata": {},
   "outputs": [
    {
     "data": {
      "text/plain": [
       "matrix([[1.],\n",
       "        [0.],\n",
       "        [1.],\n",
       "        ...,\n",
       "        [0.],\n",
       "        [0.],\n",
       "        [1.]])"
      ]
     },
     "execution_count": 31,
     "metadata": {},
     "output_type": "execute_result"
    }
   ],
   "source": [
    "y_train"
   ]
  },
  {
   "cell_type": "markdown",
   "metadata": {},
   "source": [
    "#### Scale data from zero to one to improve accuracy"
   ]
  },
  {
   "cell_type": "code",
   "execution_count": 32,
   "metadata": {},
   "outputs": [
    {
     "data": {
      "text/plain": [
       "array([[0.234375  , 0.52      , 0.53125   , ..., 0.73469388, 0.17142857,\n",
       "        0.34285714],\n",
       "       [0.21875   , 0.48      , 0.5       , ..., 0.3877551 , 0.42857143,\n",
       "        0.42857143],\n",
       "       [0.265625  , 0.72      , 0.53125   , ..., 0.67346939, 0.17142857,\n",
       "        0.37142857],\n",
       "       ...,\n",
       "       [0.40625   , 0.56      , 0.59375   , ..., 0.36734694, 0.54285714,\n",
       "        0.45714286],\n",
       "       [0.390625  , 0.64      , 0.71875   , ..., 0.51020408, 0.34285714,\n",
       "        0.28571429],\n",
       "       [0.28125   , 0.68      , 0.9375    , ..., 0.55102041, 0.48571429,\n",
       "        0.37142857]])"
      ]
     },
     "execution_count": 32,
     "metadata": {},
     "output_type": "execute_result"
    }
   ],
   "source": [
    "min_max_scaler = MinMaxScaler(feature_range=(0,1))\n",
    "X_train = min_max_scaler.fit_transform(X_train)\n",
    "X_train"
   ]
  },
  {
   "cell_type": "markdown",
   "metadata": {},
   "source": [
    "### Testing"
   ]
  },
  {
   "cell_type": "markdown",
   "metadata": {},
   "source": [
    "#### Import testing dataset"
   ]
  },
  {
   "cell_type": "code",
   "execution_count": 33,
   "metadata": {},
   "outputs": [],
   "source": [
    "#Import the CV dataset as a matrix\n",
    "cv_data = np.matrix(np.loadtxt('group3_cv.csv', delimiter=','));\n",
    "\n",
    "y_value = cv_data[:, -1]\n",
    "#print(y_value)\n",
    "for i in range(len(y_value)):\n",
    "    if y_value[i] != room:\n",
    "        y_value[i] = 0\n",
    "    elif y_value[i] == room:\n",
    "        y_value[i] = 1\n",
    "        \n",
    "#Split data into X and y variables\n",
    "X_CV = np.column_stack((cv_data[:,0],cv_data[:,1],cv_data[:,2],cv_data[:,3],cv_data[:,4],cv_data[:,5],cv_data[:,6]))\n",
    "y_CV = cv_data[:, 7]"
   ]
  },
  {
   "cell_type": "markdown",
   "metadata": {},
   "source": [
    "#### Predictor variable X Training Dataset"
   ]
  },
  {
   "cell_type": "code",
   "execution_count": 34,
   "metadata": {},
   "outputs": [
    {
     "data": {
      "text/plain": [
       "matrix([[-17., -74., -60., ..., -73., -71., -80.],\n",
       "        [-64., -58., -45., ..., -48., -89., -93.],\n",
       "        [-69., -59., -59., ..., -78., -86., -87.],\n",
       "        ...,\n",
       "        [-12., -56., -58., ..., -70., -75., -79.],\n",
       "        [-46., -59., -55., ..., -69., -74., -84.],\n",
       "        [-37., -54., -54., ..., -64., -72., -78.]])"
      ]
     },
     "execution_count": 34,
     "metadata": {},
     "output_type": "execute_result"
    }
   ],
   "source": [
    "X_CV"
   ]
  },
  {
   "cell_type": "markdown",
   "metadata": {},
   "source": [
    "#### Response variable y Testing Dataset"
   ]
  },
  {
   "cell_type": "code",
   "execution_count": 35,
   "metadata": {},
   "outputs": [
    {
     "data": {
      "text/plain": [
       "matrix([[0.],\n",
       "        [1.],\n",
       "        [0.],\n",
       "        [0.],\n",
       "        [0.],\n",
       "        [0.],\n",
       "        [0.],\n",
       "        [0.],\n",
       "        [1.],\n",
       "        [0.],\n",
       "        [1.],\n",
       "        [1.],\n",
       "        [0.],\n",
       "        [0.],\n",
       "        [0.],\n",
       "        [0.],\n",
       "        [0.],\n",
       "        [0.],\n",
       "        [0.],\n",
       "        [0.],\n",
       "        [0.],\n",
       "        [1.],\n",
       "        [0.],\n",
       "        [0.],\n",
       "        [0.],\n",
       "        [0.],\n",
       "        [0.],\n",
       "        [0.],\n",
       "        [0.],\n",
       "        [0.],\n",
       "        [0.],\n",
       "        [0.],\n",
       "        [0.],\n",
       "        [0.],\n",
       "        [1.],\n",
       "        [0.],\n",
       "        [0.],\n",
       "        [1.],\n",
       "        [0.],\n",
       "        [0.],\n",
       "        [0.],\n",
       "        [1.],\n",
       "        [1.],\n",
       "        [1.],\n",
       "        [0.],\n",
       "        [1.],\n",
       "        [1.],\n",
       "        [0.],\n",
       "        [0.],\n",
       "        [0.],\n",
       "        [0.],\n",
       "        [0.],\n",
       "        [1.],\n",
       "        [0.],\n",
       "        [0.],\n",
       "        [0.],\n",
       "        [0.],\n",
       "        [0.],\n",
       "        [1.],\n",
       "        [0.],\n",
       "        [0.],\n",
       "        [0.],\n",
       "        [0.],\n",
       "        [0.],\n",
       "        [0.],\n",
       "        [0.],\n",
       "        [0.],\n",
       "        [0.],\n",
       "        [0.],\n",
       "        [0.],\n",
       "        [0.],\n",
       "        [1.],\n",
       "        [0.],\n",
       "        [1.],\n",
       "        [0.],\n",
       "        [0.],\n",
       "        [0.],\n",
       "        [0.],\n",
       "        [0.],\n",
       "        [0.],\n",
       "        [0.],\n",
       "        [0.],\n",
       "        [0.],\n",
       "        [0.],\n",
       "        [1.],\n",
       "        [0.],\n",
       "        [0.],\n",
       "        [0.],\n",
       "        [1.],\n",
       "        [0.],\n",
       "        [0.],\n",
       "        [0.],\n",
       "        [0.],\n",
       "        [0.],\n",
       "        [1.],\n",
       "        [0.],\n",
       "        [1.],\n",
       "        [1.],\n",
       "        [0.],\n",
       "        [0.],\n",
       "        [1.],\n",
       "        [1.],\n",
       "        [0.],\n",
       "        [0.],\n",
       "        [0.],\n",
       "        [0.],\n",
       "        [1.],\n",
       "        [1.],\n",
       "        [1.],\n",
       "        [0.],\n",
       "        [0.],\n",
       "        [1.],\n",
       "        [0.],\n",
       "        [0.],\n",
       "        [0.],\n",
       "        [1.],\n",
       "        [1.],\n",
       "        [0.],\n",
       "        [0.],\n",
       "        [1.],\n",
       "        [0.],\n",
       "        [1.],\n",
       "        [0.],\n",
       "        [0.],\n",
       "        [0.],\n",
       "        [0.],\n",
       "        [0.],\n",
       "        [0.],\n",
       "        [0.],\n",
       "        [0.],\n",
       "        [1.],\n",
       "        [0.],\n",
       "        [0.],\n",
       "        [0.],\n",
       "        [0.],\n",
       "        [0.],\n",
       "        [1.],\n",
       "        [0.],\n",
       "        [1.],\n",
       "        [0.],\n",
       "        [0.],\n",
       "        [0.],\n",
       "        [0.],\n",
       "        [1.],\n",
       "        [1.],\n",
       "        [0.],\n",
       "        [0.],\n",
       "        [0.],\n",
       "        [0.],\n",
       "        [1.],\n",
       "        [0.],\n",
       "        [0.],\n",
       "        [0.],\n",
       "        [0.],\n",
       "        [0.],\n",
       "        [1.],\n",
       "        [1.],\n",
       "        [0.],\n",
       "        [1.],\n",
       "        [0.],\n",
       "        [0.],\n",
       "        [0.],\n",
       "        [1.],\n",
       "        [0.],\n",
       "        [0.],\n",
       "        [1.],\n",
       "        [1.],\n",
       "        [0.],\n",
       "        [0.],\n",
       "        [0.],\n",
       "        [1.],\n",
       "        [0.],\n",
       "        [1.],\n",
       "        [0.],\n",
       "        [0.],\n",
       "        [0.],\n",
       "        [0.],\n",
       "        [0.],\n",
       "        [0.],\n",
       "        [0.],\n",
       "        [1.],\n",
       "        [1.],\n",
       "        [0.],\n",
       "        [1.],\n",
       "        [0.],\n",
       "        [0.],\n",
       "        [0.],\n",
       "        [0.],\n",
       "        [0.],\n",
       "        [0.],\n",
       "        [0.],\n",
       "        [0.],\n",
       "        [0.],\n",
       "        [0.],\n",
       "        [0.],\n",
       "        [0.],\n",
       "        [1.],\n",
       "        [0.],\n",
       "        [0.],\n",
       "        [0.],\n",
       "        [0.],\n",
       "        [0.],\n",
       "        [1.],\n",
       "        [0.],\n",
       "        [0.],\n",
       "        [1.],\n",
       "        [0.],\n",
       "        [1.],\n",
       "        [1.],\n",
       "        [0.],\n",
       "        [0.],\n",
       "        [0.],\n",
       "        [0.],\n",
       "        [0.],\n",
       "        [0.],\n",
       "        [0.],\n",
       "        [0.],\n",
       "        [0.],\n",
       "        [0.],\n",
       "        [1.],\n",
       "        [0.],\n",
       "        [0.],\n",
       "        [0.],\n",
       "        [0.],\n",
       "        [0.],\n",
       "        [0.],\n",
       "        [0.],\n",
       "        [0.],\n",
       "        [0.],\n",
       "        [1.],\n",
       "        [0.],\n",
       "        [1.],\n",
       "        [0.],\n",
       "        [1.],\n",
       "        [0.],\n",
       "        [0.],\n",
       "        [1.],\n",
       "        [0.],\n",
       "        [0.],\n",
       "        [0.],\n",
       "        [0.],\n",
       "        [0.],\n",
       "        [0.],\n",
       "        [1.],\n",
       "        [0.],\n",
       "        [0.],\n",
       "        [1.],\n",
       "        [0.],\n",
       "        [0.],\n",
       "        [1.],\n",
       "        [0.],\n",
       "        [0.],\n",
       "        [1.],\n",
       "        [0.],\n",
       "        [0.],\n",
       "        [0.],\n",
       "        [0.],\n",
       "        [0.],\n",
       "        [0.],\n",
       "        [1.],\n",
       "        [0.],\n",
       "        [0.],\n",
       "        [0.],\n",
       "        [0.],\n",
       "        [0.],\n",
       "        [0.],\n",
       "        [0.],\n",
       "        [0.],\n",
       "        [0.],\n",
       "        [1.],\n",
       "        [0.],\n",
       "        [0.],\n",
       "        [0.],\n",
       "        [0.],\n",
       "        [0.],\n",
       "        [0.],\n",
       "        [0.],\n",
       "        [0.],\n",
       "        [0.],\n",
       "        [0.],\n",
       "        [0.],\n",
       "        [1.],\n",
       "        [0.],\n",
       "        [0.],\n",
       "        [0.],\n",
       "        [0.],\n",
       "        [1.],\n",
       "        [0.],\n",
       "        [0.],\n",
       "        [0.],\n",
       "        [0.],\n",
       "        [0.],\n",
       "        [0.],\n",
       "        [0.],\n",
       "        [1.],\n",
       "        [1.],\n",
       "        [1.],\n",
       "        [0.],\n",
       "        [0.],\n",
       "        [0.]])"
      ]
     },
     "execution_count": 35,
     "metadata": {},
     "output_type": "execute_result"
    }
   ],
   "source": [
    "y_CV"
   ]
  },
  {
   "cell_type": "markdown",
   "metadata": {},
   "source": [
    "#### Scale data from zero to one to improve accuracy"
   ]
  },
  {
   "cell_type": "code",
   "execution_count": 36,
   "metadata": {},
   "outputs": [
    {
     "data": {
      "text/plain": [
       "array([[0.88888889, 0.        , 0.35483871, ..., 0.29545455, 0.70588235,\n",
       "        0.52941176],\n",
       "       [0.14285714, 0.59259259, 0.83870968, ..., 0.86363636, 0.17647059,\n",
       "        0.14705882],\n",
       "       [0.06349206, 0.55555556, 0.38709677, ..., 0.18181818, 0.26470588,\n",
       "        0.32352941],\n",
       "       ...,\n",
       "       [0.96825397, 0.66666667, 0.41935484, ..., 0.36363636, 0.58823529,\n",
       "        0.55882353],\n",
       "       [0.42857143, 0.55555556, 0.51612903, ..., 0.38636364, 0.61764706,\n",
       "        0.41176471],\n",
       "       [0.57142857, 0.74074074, 0.5483871 , ..., 0.5       , 0.67647059,\n",
       "        0.58823529]])"
      ]
     },
     "execution_count": 36,
     "metadata": {},
     "output_type": "execute_result"
    }
   ],
   "source": [
    "X_CV = min_max_scaler.fit_transform(X_CV)\n",
    "X_CV"
   ]
  },
  {
   "cell_type": "markdown",
   "metadata": {},
   "source": [
    "### Generate neural network with MLPClassifier"
   ]
  },
  {
   "cell_type": "code",
   "execution_count": 37,
   "metadata": {},
   "outputs": [],
   "source": [
    "from sklearn.neural_network import MLPClassifier"
   ]
  },
  {
   "cell_type": "code",
   "execution_count": 38,
   "metadata": {},
   "outputs": [
    {
     "data": {
      "text/plain": [
       "MLPClassifier(activation='relu', alpha=0.0001, batch_size='auto', beta_1=0.9,\n",
       "       beta_2=0.999, early_stopping=False, epsilon=1e-08,\n",
       "       hidden_layer_sizes=(50, 100), learning_rate='constant',\n",
       "       learning_rate_init=0.3, max_iter=10000, momentum=0.9,\n",
       "       nesterovs_momentum=True, power_t=0.5, random_state=1, shuffle=True,\n",
       "       solver='sgd', tol=0.0001, validation_fraction=0.1, verbose=False,\n",
       "       warm_start=False)"
      ]
     },
     "execution_count": 38,
     "metadata": {},
     "output_type": "execute_result"
    }
   ],
   "source": [
    "                      #Number of nodes and hidden layers\n",
    "model = MLPClassifier(hidden_layer_sizes=(50,100), \n",
    "                      #Maximum number of iterations till convergence\n",
    "                      max_iter=10000,\n",
    "                      #Used for weight optimization\n",
    "                      solver='sgd',\n",
    "                      #Generate random numbers\n",
    "                      random_state=1,\n",
    "                      #Step size in updating weights\n",
    "                      learning_rate_init=.3) \n",
    "\n",
    "#Fit the data model to matrix y_train and x_train\n",
    "model.fit(X_train, y_train)"
   ]
  },
  {
   "cell_type": "markdown",
   "metadata": {},
   "source": [
    "### Predictor Variable\n",
    "\n",
    "Generate the predictor variable of the Cross Validation X dataset."
   ]
  },
  {
   "cell_type": "code",
   "execution_count": 39,
   "metadata": {},
   "outputs": [
    {
     "name": "stdout",
     "output_type": "stream",
     "text": [
      "[0. 1. 0. 0. 0. 0. 0. 0. 1. 0. 1. 1. 0. 0. 0. 0. 0. 0. 0. 0. 0. 1. 0. 0.\n",
      " 0. 0. 0. 0. 0. 0. 0. 0. 0. 0. 1. 0. 0. 1. 0. 0. 0. 1. 1. 1. 0. 1. 1. 0.\n",
      " 1. 0. 0. 0. 1. 0. 0. 0. 0. 0. 1. 0. 0. 0. 0. 0. 0. 0. 0. 0. 0. 0. 0. 1.\n",
      " 0. 1. 0. 0. 0. 0. 0. 0. 0. 0. 0. 0. 1. 0. 0. 0. 1. 0. 0. 0. 0. 0. 1. 0.\n",
      " 1. 1. 0. 0. 1. 1. 0. 0. 0. 0. 1. 1. 1. 0. 0. 1. 0. 0. 0. 1. 1. 0. 0. 1.\n",
      " 0. 1. 0. 0. 0. 0. 0. 0. 0. 0. 1. 1. 0. 0. 0. 0. 1. 0. 1. 0. 0. 0. 0. 1.\n",
      " 1. 0. 0. 0. 0. 1. 0. 0. 0. 0. 0. 1. 1. 0. 1. 0. 0. 0. 1. 0. 0. 1. 1. 0.\n",
      " 0. 0. 1. 0. 1. 0. 0. 0. 0. 0. 0. 0. 1. 1. 0. 1. 0. 0. 0. 0. 0. 0. 0. 0.\n",
      " 0. 0. 0. 0. 1. 0. 0. 0. 0. 0. 1. 0. 0. 1. 0. 1. 1. 0. 0. 0. 0. 0. 0. 0.\n",
      " 0. 0. 0. 1. 0. 0. 0. 0. 1. 0. 0. 0. 0. 1. 0. 1. 0. 1. 0. 0. 1. 0. 0. 0.\n",
      " 0. 0. 0. 1. 0. 0. 1. 0. 0. 1. 0. 0. 1. 0. 0. 0. 0. 0. 0. 1. 0. 0. 0. 0.\n",
      " 0. 0. 0. 0. 0. 1. 0. 0. 0. 0. 0. 0. 0. 0. 0. 0. 0. 1. 0. 0. 0. 0. 1. 0.\n",
      " 0. 0. 0. 0. 0. 0. 1. 1. 1. 0. 0. 0.]\n"
     ]
    }
   ],
   "source": [
    "predictor_y = model.predict(X_CV)\n",
    "print(predictor_y)"
   ]
  },
  {
   "cell_type": "markdown",
   "metadata": {},
   "source": [
    "### Confusion Matrix\n",
    "\n",
    "In binary classification, the count of true negatives is (1,0), false negatives is (0,0), true positives is (1,1) and false positives is (0,1).\n",
    "\n",
    "- (0,0) Represents the correctly predicted event values\n",
    "- (1,0) Represents the incorrectly predicted event values\n",
    "- (0,1) Represents the correctly predicted no-event values\n",
    "- (1,1) Represents the incorrectly predicted no-event values."
   ]
  },
  {
   "cell_type": "code",
   "execution_count": 40,
   "metadata": {},
   "outputs": [
    {
     "data": {
      "text/plain": [
       "Text(0.5,257.44,'Predicted label')"
      ]
     },
     "execution_count": 40,
     "metadata": {},
     "output_type": "execute_result"
    },
    {
     "data": {
      "image/png": "[encoded data removed]",
      "text/plain": [
       "<Figure size 432x288 with 2 Axes>"
      ]
     },
     "metadata": {},
     "output_type": "display_data"
    }
   ],
   "source": [
    "from sklearn.metrics import classification_report, confusion_matrix\n",
    "import seaborn as sns\n",
    "cnf_matrix = confusion_matrix(y_CV, predictor_y)\n",
    "class_names=[0,1] # name  of classes\n",
    "fig, ax = plot.subplots()\n",
    "tick_marks = np.arange(len(class_names))\n",
    "plot.xticks(tick_marks, class_names)\n",
    "plot.yticks(tick_marks, class_names)\n",
    "# create heatmap\n",
    "sns.heatmap(pd.DataFrame(cnf_matrix), annot=True,fmt='g')\n",
    "ax.xaxis.set_label_position(\"top\")\n",
    "plot.tight_layout()\n",
    "plot.title('Confusion matrix', y=1.1)\n",
    "plot.ylabel('Actual label')\n",
    "plot.xlabel('Predicted label')"
   ]
  },
  {
   "cell_type": "markdown",
   "metadata": {},
   "source": [
    "### Classification Report\n",
    "\n",
    "#### Precision\n",
    "TP - True Positives\n",
    "FP - False Positives\n",
    "- Precision = TP/(TP + FP)\n",
    "- Represents the accuracy of positive predictions\n",
    "\n",
    "#### Recall Score\n",
    "FN – False Negatives\n",
    "- Recall (aka sensitivity or true positive rate): Fraction of positives That were correctly identified.\n",
    "- Recall = TP/(TP+FN)\n",
    "\n",
    "#### F1 Score\n",
    "- F1 Score (aka F-Score or F-Measure) – A helpful metric for comparing two classifiers.\n",
    "- F1 Score takes into account Precision and the Recall. \n",
    "- It is created by finding the the harmonic mean of Precision and Recall.\n",
    "- F1 = 2 x (Precision x Recall)/(Precision + Recall)\n"
   ]
  },
  {
   "cell_type": "code",
   "execution_count": 41,
   "metadata": {},
   "outputs": [
    {
     "name": "stdout",
     "output_type": "stream",
     "text": [
      "             precision    recall  f1-score   support\n",
      "\n",
      "        0.0       1.00      0.99      0.99       231\n",
      "        1.0       0.96      1.00      0.98        69\n",
      "\n",
      "avg / total       0.99      0.99      0.99       300\n",
      "\n"
     ]
    }
   ],
   "source": [
    "print(classification_report(y_CV, predictor_y))"
   ]
  },
  {
   "cell_type": "markdown",
   "metadata": {},
   "source": [
    "### Model Accuracy\n",
    "\n",
    "Accuracy is the most intuitive performance measure and it is simply a ratio of correctly predicted observation to the total observations.\n",
    "- Accuracy = (TP+TN)/(TP+FP+FN+TN)"
   ]
  },
  {
   "cell_type": "code",
   "execution_count": 16,
   "metadata": {},
   "outputs": [
    {
     "name": "stdout",
     "output_type": "stream",
     "text": [
      "Accuracy of the model =  99.0\n"
     ]
    }
   ],
   "source": [
    "print(\"Accuracy of the model = \", metrics.accuracy_score(y_CV, predictor_y)*100);"
   ]
  },
  {
   "cell_type": "markdown",
   "metadata": {},
   "source": [
    "### Imbalanced Score\n",
    "Check the imbalance score of the binary classification"
   ]
  },
  {
   "cell_type": "code",
   "execution_count": 17,
   "metadata": {},
   "outputs": [
    {
     "name": "stdout",
     "output_type": "stream",
     "text": [
      "Cohen kappa score =  97.21913236929922\n"
     ]
    }
   ],
   "source": [
    "print(\"Cohen kappa score = \", metrics.cohen_kappa_score(y_CV, predictor_y)*100);"
   ]
  },
  {
   "cell_type": "markdown",
   "metadata": {},
   "source": [
    "As we can see it is not that imbalanced."
   ]
  },
  {
   "cell_type": "markdown",
   "metadata": {},
   "source": [
    "### Learning Rate Curves\n",
    "- Test which learning rates are more accurate\n",
    "- Test which learning rates are best to reach convergence faster\n",
    "\n",
    "#### Set the different learning rates to be graphed for convergence."
   ]
  },
  {
   "cell_type": "code",
   "execution_count": 18,
   "metadata": {},
   "outputs": [],
   "source": [
    "#Set different learning rates to plot inot a single variable\n",
    "params = [{'solver': 'sgd', 'learning_rate_init': 0.2},\n",
    "          {'solver': 'sgd', 'learning_rate_init': 0.3},\n",
    "          {'solver': 'sgd', 'learning_rate_init': 0.001},\n",
    "          {'solver': 'sgd', 'learning_rate_init': 0.03},\n",
    "          {'solver': 'sgd', 'learning_rate_init': 0.003},\n",
    "          {'solver': 'sgd', 'learning_rate_init': 0.01},\n",
    "          {'solver': 'sgd', 'learning_rate_init': 0.002}]\n",
    "\n",
    "#Set different learning rate labels for graphs\n",
    "labels = [\"learning-rate_0.2\", \"learning-rate_0.3\",\n",
    "          \"learning-rate_0.001\",\n",
    "          \"learning-rate_-0.03\", \"learning-rate_0.03\",\n",
    "          \"learning-rate_0.001\", \"learning-rate_-0.002\"]\n",
    "\n",
    "#Set the colour of the lines\n",
    "plot_args = [{'c': 'red', 'linestyle': '-'},\n",
    "             {'c': 'green', 'linestyle': '-'},\n",
    "             {'c': 'blue', 'linestyle': '-'},\n",
    "             {'c': 'red', 'linestyle': '--'},\n",
    "             {'c': 'green', 'linestyle': '--'},\n",
    "             {'c': 'blue', 'linestyle': '--'},\n",
    "             {'c': 'black', 'linestyle': '-'}]"
   ]
  },
  {
   "cell_type": "markdown",
   "metadata": {},
   "source": [
    "#### Plot the Learning Rate Curves"
   ]
  },
  {
   "cell_type": "code",
   "execution_count": 19,
   "metadata": {},
   "outputs": [
    {
     "name": "stdout",
     "output_type": "stream",
     "text": [
      "learning-rate_0.2\n",
      "Accuracy score of 1.000000\n",
      "learning-rate_0.3\n",
      "Accuracy score of 1.000000\n",
      "learning-rate_0.001\n",
      "Accuracy score of 0.770000\n",
      "learning-rate_-0.03\n",
      "Accuracy score of 0.996667\n",
      "learning-rate_0.03\n",
      "Accuracy score of 0.770000\n",
      "learning-rate_0.001\n",
      "Accuracy score of 0.970000\n",
      "learning-rate_-0.002\n",
      "Accuracy score of 0.770000\n"
     ]
    },
    {
     "data": {
      "image/png": "[encoded data removed]",
      "text/plain": [
       "<Figure size 432x288 with 1 Axes>"
      ]
     },
     "metadata": {},
     "output_type": "display_data"
    },
    {
     "data": {
      "image/png": "[encoded data removed]",
      "text/plain": [
       "<Figure size 432x288 with 1 Axes>"
      ]
     },
     "metadata": {},
     "output_type": "display_data"
    },
    {
     "data": {
      "image/png": "[encoded data removed]",
      "text/plain": [
       "<Figure size 432x288 with 1 Axes>"
      ]
     },
     "metadata": {},
     "output_type": "display_data"
    },
    {
     "data": {
      "image/png": "[encoded data removed]",
      "text/plain": [
       "<Figure size 432x288 with 1 Axes>"
      ]
     },
     "metadata": {},
     "output_type": "display_data"
    },
    {
     "data": {
      "image/png": "[encoded data removed]",
      "text/plain": [
       "<Figure size 432x288 with 1 Axes>"
      ]
     },
     "metadata": {},
     "output_type": "display_data"
    },
    {
     "data": {
      "image/png": "[encoded data removed]",
      "text/plain": [
       "<Figure size 432x288 with 1 Axes>"
      ]
     },
     "metadata": {},
     "output_type": "display_data"
    },
    {
     "data": {
      "image/png": "[encoded data removed]",
      "text/plain": [
       "<Figure size 432x288 with 1 Axes>"
      ]
     },
     "metadata": {},
     "output_type": "display_data"
    }
   ],
   "source": [
    "def plot_on_dataset(X, y):\n",
    "    # for each learning_rate, plot learning for each learning strategy\n",
    "    X = MinMaxScaler().fit_transform(X)\n",
    "    mlps = []\n",
    "    #For 100 iterations till convergence\n",
    "    max_iter = 100\n",
    "    for label, param in zip(labels, params):\n",
    "        print(\"%s\" % label)\n",
    "        #Fit data and define the classifierwith different parameters\n",
    "        mlp = MLPClassifier(verbose=0, random_state=0, max_iter=max_iter, **param)\n",
    "        mlp.fit(X, y)\n",
    "        mlps.append(mlp)\n",
    "        #Print out the accuracy of each learning rate\n",
    "        print(\"Accuracy score of %f\" % mlp.score(X, y))\n",
    "    return mlps\n",
    "mlps = plot_on_dataset(X_CV, y_CV)\n",
    "fig = plot.figure()\n",
    "plot.title(\"Curves\")\n",
    "i=0\n",
    "#Plot each parameter with labels and arguments\n",
    "for mlp, label, args in zip(mlps, labels, plot_args):\n",
    "            plot.title(labels[i]);\n",
    "            i=i+1;\n",
    "            plot.plot(mlp.loss_curve_, label=label, **args)\n",
    "            plot.show()"
   ]
  },
  {
   "attachments": {
    "Untitled.jpg": {
     "image/jpeg": "[encoded data removed]"
    }
   },
   "cell_type": "markdown",
   "metadata": {},
   "source": [
    "## The difference between ROC curves and precision-recall curves\n",
    "The main difference between ROC curves and precision-recall curves is that the number of true-negative results is not used for making a PRC. \n",
    "\n",
    "![Untitled.jpg](attachment:Untitled.jpg)"
   ]
  },
  {
   "cell_type": "markdown",
   "metadata": {},
   "source": [
    "### Plot Precision vs Recall Curve\n",
    "The cut-off determines the clinical sensitivity (fraction of true positives to all with disease) and specificity (fraction of true negatives to all without disease). \n",
    "\n",
    "A precision-recall curve shows the relationship between precision (= positive predictive value) and recall (= sensitivity) for every possible cut-off. The PRC is a graph with: \n",
    "\n",
    "• The x-axis showing recall (= sensitivity = TP / (TP + FN)) \n",
    "• The y-axis showing precision (= positive predictive value = TP / (TP + FP))"
   ]
  },
  {
   "cell_type": "code",
   "execution_count": 20,
   "metadata": {},
   "outputs": [
    {
     "data": {
      "text/plain": [
       "Text(0.5,1,'2-class Precision-Recall curve: AP={0:0.2f}')"
      ]
     },
     "execution_count": 20,
     "metadata": {},
     "output_type": "execute_result"
    },
    {
     "data": {
      "image/png": "[encoded data removed]",
      "text/plain": [
       "<Figure size 432x288 with 1 Axes>"
      ]
     },
     "metadata": {},
     "output_type": "display_data"
    }
   ],
   "source": [
    "#Get the precision and recall\n",
    "precision, recall, _ = precision_recall_curve(y_CV, predictor_y)\n",
    "\n",
    "#Formatting options for the plot\n",
    "plot.step(recall, precision, color='b', alpha=0.2,where='post')\n",
    "\n",
    "#Fill the graph with blue\n",
    "plot.fill_between(recall, precision, step='post', alpha=0.2,color='b')\n",
    "\n",
    "#Labels\n",
    "plot.xlabel('Recall')\n",
    "plot.ylabel('Precision')\n",
    "\n",
    "#Set limits for x and y\n",
    "plot.ylim([0.0, 1.05])\n",
    "plot.xlim([0.0, 1.0])\n",
    "\n",
    "plot.title('2-class Precision-Recall curve: AP={0:0.2f}')"
   ]
  },
  {
   "cell_type": "markdown",
   "metadata": {},
   "source": [
    "### ROC Curve\n",
    "The area under the ROC curve (AUC) is a measure of how well a parameter can distinguish between two diagnostic groups ex. 1/0. Room 4 vs 1,2,3."
   ]
  },
  {
   "cell_type": "code",
   "execution_count": 21,
   "metadata": {},
   "outputs": [
    {
     "data": {
      "image/png": "[encoded data removed]",
      "text/plain": [
       "<Figure size 432x288 with 1 Axes>"
      ]
     },
     "metadata": {},
     "output_type": "display_data"
    }
   ],
   "source": [
    "#Print Area Under Curve\n",
    "false_positive_rate, recall, thresholds = roc_curve(y_CV, predictor_y)\n",
    "roc_auc = auc(false_positive_rate, recall)\n",
    "plot.figure()\n",
    "plot.title('Receiver Operating Characteristic (ROC)')\n",
    "plot.plot(false_positive_rate, recall, 'b', label = 'AUC = %0.3f' %roc_auc)\n",
    "plot.legend(loc='lower right')\n",
    "\n",
    "#Set limiters for X and y\n",
    "plot.xlim([0.0,1.0])\n",
    "plot.ylim([0.0,1.0])\n",
    "\n",
    "#Set labels for X and y\n",
    "plot.ylabel('Recall')\n",
    "plot.xlabel('Fall-out (1-Specificity)')\n",
    "plot.show()"
   ]
  },
  {
   "cell_type": "code",
   "execution_count": null,
   "metadata": {},
   "outputs": [],
   "source": []
  },
  {
   "cell_type": "code",
   "execution_count": null,
   "metadata": {},
   "outputs": [],
   "source": []
  },
  {
   "cell_type": "code",
   "execution_count": null,
   "metadata": {},
   "outputs": [],
   "source": []
  }
 ],
 "metadata": {
  "kernelspec": {
   "display_name": "Python 3",
   "language": "python",
   "name": "python3"
  },
  "language_info": {
   "codemirror_mode": {
    "name": "ipython",
    "version": 3
   },
   "file_extension": ".py",
   "mimetype": "text/x-python",
   "name": "python",
   "nbconvert_exporter": "python",
   "pygments_lexer": "ipython3",
   "version": "3.6.5"
  }
 },
 "nbformat": 4,
 "nbformat_minor": 2
}
